{
 "cells": [
  {
   "cell_type": "markdown",
   "id": "8358745d",
   "metadata": {},
   "source": [
    "# **Adiciona caminho de src para permitir importações a este notebook**"
   ]
  },
  {
   "cell_type": "code",
   "execution_count": 1,
   "id": "73bca281",
   "metadata": {},
   "outputs": [],
   "source": [
    "import sys\n",
    "from pathlib import Path\n",
    "\n",
    "# Define o caminho base do projeto (um nível acima de /notebooks)\n",
    "BASE_DIR = Path(__file__).resolve().parent.parent  if '__file__' in globals() else Path.cwd().parent\n",
    "\n",
    "# Caminho para a pasta src/\n",
    "SRC_DIR = BASE_DIR / \"src\"\n",
    "\n",
    "# Adiciona SRC_DIR e BASE_DIR ao sys.path\n",
    "sys.path.append(str(BASE_DIR))\n",
    "sys.path.append(str(SRC_DIR))"
   ]
  },
  {
   "cell_type": "markdown",
   "id": "86104fdf",
   "metadata": {},
   "source": [
    "# **Vetorização e definição dos dados de treino e teste do dataset**"
   ]
  },
  {
   "cell_type": "code",
   "execution_count": 2,
   "id": "16d7f1de",
   "metadata": {},
   "outputs": [],
   "source": [
    "import os\n",
    "import pandas as pd\n",
    "from sklearn.model_selection import train_test_split\n",
    "from src.vectorizer import create_vectorizer\n",
    "\n",
    "# Carrega o dataset processado em formato .csv\n",
    "processed_df = pd.read_csv(os.path.join(BASE_DIR, \"data\", \"processed\", \"processed_dataset.csv\"))\n",
    "\n",
    "# Define as características (X) e o alvo (Y)\n",
    "X = processed_df['full_text_clean']\n",
    "Y = processed_df['label']\n",
    "\n",
    "# Separa os dados de treino e teste (80% treino, 20% teste)\n",
    "X_train_text, X_test_text, Y_train, Y_test = train_test_split(X, Y, test_size=0.2, random_state=42, stratify=Y)\n",
    "\n",
    "# Cria o vetor TF-IDF\n",
    "vectorizer = create_vectorizer()\n",
    "X_train = vectorizer.fit_transform(X_train_text)\n",
    "X_test = vectorizer.transform(X_test_text)"
   ]
  },
  {
   "cell_type": "markdown",
   "id": "60d4a74d",
   "metadata": {},
   "source": [
    "# **Treinamento e avaliação do modelo Logistic Regression (LR)**"
   ]
  },
  {
   "cell_type": "code",
   "execution_count": 3,
   "id": "4f491ba5",
   "metadata": {},
   "outputs": [
    {
     "name": "stdout",
     "output_type": "stream",
     "text": [
      "Logistic Regression\n",
      "Acurácia: 0.9803\n",
      "Relatório de Classificação:\n",
      "              precision    recall  f1-score   support\n",
      "\n",
      "   Fake News       0.99      0.98      0.98      4695\n",
      "   Real News       0.97      0.99      0.98      4283\n",
      "\n",
      "    accuracy                           0.98      8978\n",
      "   macro avg       0.98      0.98      0.98      8978\n",
      "weighted avg       0.98      0.98      0.98      8978\n",
      "\n",
      "Matriz de Confusão:\n",
      "[[4578  117]\n",
      " [  60 4223]]\n"
     ]
    }
   ],
   "source": [
    "from src.classifiers.logistic_regression import train_logistic_regression\n",
    "\n",
    "\n",
    "# Treina e avalia o modelo Logistic Regression (LR)\n",
    "train_logistic_regression(X_train, Y_train, X_test, Y_test)"
   ]
  },
  {
   "cell_type": "markdown",
   "id": "47f5f4eb",
   "metadata": {},
   "source": [
    "# **Treinamento e avaliação do modelo Random Forest (RF)**"
   ]
  },
  {
   "cell_type": "code",
   "execution_count": 4,
   "id": "642bb21f",
   "metadata": {},
   "outputs": [
    {
     "name": "stdout",
     "output_type": "stream",
     "text": [
      "Random Forest\n",
      "Acurácia: 0.9779\n",
      "Relatório de Classificação:\n",
      "              precision    recall  f1-score   support\n",
      "\n",
      "   Fake News       0.98      0.98      0.98      4695\n",
      "   Real News       0.98      0.98      0.98      4283\n",
      "\n",
      "    accuracy                           0.98      8978\n",
      "   macro avg       0.98      0.98      0.98      8978\n",
      "weighted avg       0.98      0.98      0.98      8978\n",
      "\n",
      "Matriz de Confusão:\n",
      "[[4590  105]\n",
      " [  93 4190]]\n"
     ]
    }
   ],
   "source": [
    "from src.classifiers.random_forest import train_random_forest\n",
    "\n",
    "# Treina e avalia o modelo Random Forest (RF)\n",
    "train_random_forest(X_train, Y_train, X_test, Y_test)"
   ]
  },
  {
   "cell_type": "markdown",
   "id": "49900297",
   "metadata": {},
   "source": [
    "# **Treinamento e avaliação do modelo Naive Bayes (NB)**"
   ]
  },
  {
   "cell_type": "code",
   "execution_count": 5,
   "id": "894e5879",
   "metadata": {},
   "outputs": [
    {
     "name": "stdout",
     "output_type": "stream",
     "text": [
      "Naive Bayes\n",
      "Acurácia: 0.9393\n",
      "Relatório de Classificação:\n",
      "              precision    recall  f1-score   support\n",
      "\n",
      "   Fake News       0.95      0.94      0.94      4695\n",
      "   Real News       0.93      0.94      0.94      4283\n",
      "\n",
      "    accuracy                           0.94      8978\n",
      "   macro avg       0.94      0.94      0.94      8978\n",
      "weighted avg       0.94      0.94      0.94      8978\n",
      "\n",
      "Matriz de Confusão:\n",
      "[[4397  298]\n",
      " [ 247 4036]]\n"
     ]
    }
   ],
   "source": [
    "from src.classifiers.naive_bayes import train_naive_bayes\n",
    "\n",
    "# Treina e avalia o modelo Naive Bayes (NB)\n",
    "train_naive_bayes(X_train, Y_train, X_test, Y_test)"
   ]
  },
  {
   "cell_type": "markdown",
   "id": "fff51055",
   "metadata": {},
   "source": [
    "# **Treinamento e avaliação do modelo Support Vector Machines (SVM)**"
   ]
  },
  {
   "cell_type": "code",
   "execution_count": 6,
   "id": "e97df6ac",
   "metadata": {},
   "outputs": [
    {
     "name": "stdout",
     "output_type": "stream",
     "text": [
      "Support Vector Machines (SVM)\n",
      "Acurácia: 0.9904\n",
      "Relatório de Classificação:\n",
      "              precision    recall  f1-score   support\n",
      "\n",
      "   Fake News       0.99      0.99      0.99      4695\n",
      "   Real News       0.99      0.99      0.99      4283\n",
      "\n",
      "    accuracy                           0.99      8978\n",
      "   macro avg       0.99      0.99      0.99      8978\n",
      "weighted avg       0.99      0.99      0.99      8978\n",
      "\n",
      "Matriz de Confusão:\n",
      "[[4642   53]\n",
      " [  33 4250]]\n"
     ]
    }
   ],
   "source": [
    "from src.classifiers.svm import train_svm\n",
    "\n",
    "# Treina e avalia o modelo Support Vector Machines (SVM)\n",
    "train_svm(X_train, Y_train, X_test, Y_test)"
   ]
  }
 ],
 "metadata": {
  "kernelspec": {
   "display_name": "venv",
   "language": "python",
   "name": "python3"
  },
  "language_info": {
   "codemirror_mode": {
    "name": "ipython",
    "version": 3
   },
   "file_extension": ".py",
   "mimetype": "text/x-python",
   "name": "python",
   "nbconvert_exporter": "python",
   "pygments_lexer": "ipython3",
   "version": "3.12.2"
  }
 },
 "nbformat": 4,
 "nbformat_minor": 5
}
